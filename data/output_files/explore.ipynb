{
 "cells": [
  {
   "cell_type": "code",
   "execution_count": 27,
   "metadata": {},
   "outputs": [],
   "source": [
    "import pandas as pd\n"
   ]
  },
  {
   "cell_type": "code",
   "execution_count": 28,
   "metadata": {},
   "outputs": [
    {
     "data": {
      "text/html": [
       "<div>\n",
       "<style scoped>\n",
       "    .dataframe tbody tr th:only-of-type {\n",
       "        vertical-align: middle;\n",
       "    }\n",
       "\n",
       "    .dataframe tbody tr th {\n",
       "        vertical-align: top;\n",
       "    }\n",
       "\n",
       "    .dataframe thead th {\n",
       "        text-align: right;\n",
       "    }\n",
       "</style>\n",
       "<table border=\"1\" class=\"dataframe\">\n",
       "  <thead>\n",
       "    <tr style=\"text-align: right;\">\n",
       "      <th></th>\n",
       "      <th>text</th>\n",
       "      <th>CommentTime</th>\n",
       "      <th>CommentAuthor</th>\n",
       "      <th>ParentTitle</th>\n",
       "      <th>clean_text</th>\n",
       "      <th>location</th>\n",
       "      <th>technologies</th>\n",
       "      <th>embedding</th>\n",
       "      <th>company</th>\n",
       "      <th>title</th>\n",
       "      <th>...</th>\n",
       "      <th>ir_asia</th>\n",
       "      <th>ir_remote</th>\n",
       "      <th>ir_australia</th>\n",
       "      <th>ir_africa</th>\n",
       "      <th>ir_sa</th>\n",
       "      <th>ir_unknown</th>\n",
       "      <th>ir_female</th>\n",
       "      <th>ir_male</th>\n",
       "      <th>q_val</th>\n",
       "      <th>atomic_facts</th>\n",
       "    </tr>\n",
       "  </thead>\n",
       "  <tbody>\n",
       "    <tr>\n",
       "      <th>0</th>\n",
       "      <td>Enchanted Labs - (San Francisco, CA) - Ex-Face...</td>\n",
       "      <td>2014-10-03 20:53:43 UTC</td>\n",
       "      <td>JuliaLam</td>\n",
       "      <td>Ask HN: Who is hiring? (October 2014)</td>\n",
       "      <td>Enchanted Labs - (San Francisco, CA) - Ex-Face...</td>\n",
       "      <td>San Francisco, CA</td>\n",
       "      <td>\\nROLE\\n- Back End/Fullstack Engineer</td>\n",
       "      <td>[-5.89705348e-01  4.93332267e-01 -3.13929349e-...</td>\n",
       "      <td>Enchanted Labs</td>\n",
       "      <td>Back End/Fullstack Engineer</td>\n",
       "      <td>...</td>\n",
       "      <td>0.0</td>\n",
       "      <td>0.0</td>\n",
       "      <td>0.0</td>\n",
       "      <td>0.0</td>\n",
       "      <td>0.0</td>\n",
       "      <td>0.0</td>\n",
       "      <td>1.0</td>\n",
       "      <td>0.772727</td>\n",
       "      <td>-26.852616</td>\n",
       "      <td>['Enchanted Labs is located in San Francisco, ...</td>\n",
       "    </tr>\n",
       "  </tbody>\n",
       "</table>\n",
       "<p>1 rows × 38 columns</p>\n",
       "</div>"
      ],
      "text/plain": [
       "                                                text              CommentTime  \\\n",
       "0  Enchanted Labs - (San Francisco, CA) - Ex-Face...  2014-10-03 20:53:43 UTC   \n",
       "\n",
       "  CommentAuthor                            ParentTitle  \\\n",
       "0      JuliaLam  Ask HN: Who is hiring? (October 2014)   \n",
       "\n",
       "                                          clean_text           location  \\\n",
       "0  Enchanted Labs - (San Francisco, CA) - Ex-Face...  San Francisco, CA   \n",
       "\n",
       "                            technologies  \\\n",
       "0  \\nROLE\\n- Back End/Fullstack Engineer   \n",
       "\n",
       "                                           embedding         company  \\\n",
       "0  [-5.89705348e-01  4.93332267e-01 -3.13929349e-...  Enchanted Labs   \n",
       "\n",
       "                         title  ... ir_asia  ir_remote ir_australia ir_africa  \\\n",
       "0  Back End/Fullstack Engineer  ...     0.0        0.0          0.0       0.0   \n",
       "\n",
       "   ir_sa  ir_unknown  ir_female   ir_male      q_val  \\\n",
       "0    0.0         0.0        1.0  0.772727 -26.852616   \n",
       "\n",
       "                                        atomic_facts  \n",
       "0  ['Enchanted Labs is located in San Francisco, ...  \n",
       "\n",
       "[1 rows x 38 columns]"
      ]
     },
     "execution_count": 28,
     "metadata": {},
     "output_type": "execute_result"
    }
   ],
   "source": [
    "original_df = pd.read_csv(\"/dccstor/autofair/busekorkmaz/factual-bias-mitigation/data/output_files/hackernews_original_eval_df_with_facts.csv\")\n",
    "original_df.head(1)"
   ]
  },
  {
   "cell_type": "code",
   "execution_count": 18,
   "metadata": {},
   "outputs": [
    {
     "data": {
      "text/html": [
       "<div>\n",
       "<style scoped>\n",
       "    .dataframe tbody tr th:only-of-type {\n",
       "        vertical-align: middle;\n",
       "    }\n",
       "\n",
       "    .dataframe tbody tr th {\n",
       "        vertical-align: top;\n",
       "    }\n",
       "\n",
       "    .dataframe thead th {\n",
       "        text-align: right;\n",
       "    }\n",
       "</style>\n",
       "<table border=\"1\" class=\"dataframe\">\n",
       "  <thead>\n",
       "    <tr style=\"text-align: right;\">\n",
       "      <th></th>\n",
       "      <th>text</th>\n",
       "      <th>CommentTime</th>\n",
       "      <th>CommentAuthor</th>\n",
       "      <th>ParentTitle</th>\n",
       "      <th>clean_text</th>\n",
       "      <th>location</th>\n",
       "      <th>technologies</th>\n",
       "      <th>embedding</th>\n",
       "      <th>company</th>\n",
       "      <th>title</th>\n",
       "      <th>...</th>\n",
       "      <th>ir_africa</th>\n",
       "      <th>ir_sa</th>\n",
       "      <th>ir_unknown</th>\n",
       "      <th>ir_female</th>\n",
       "      <th>ir_male</th>\n",
       "      <th>q_val</th>\n",
       "      <th>diff_ir_female</th>\n",
       "      <th>diff_ir_male</th>\n",
       "      <th>diff_q_df</th>\n",
       "      <th>atomic_facts</th>\n",
       "    </tr>\n",
       "  </thead>\n",
       "  <tbody>\n",
       "    <tr>\n",
       "      <th>0</th>\n",
       "      <td>Enchanted Labs - (San Francisco, CA) - Ex-Face...</td>\n",
       "      <td>2014-10-03 20:53:43 UTC</td>\n",
       "      <td>JuliaLam</td>\n",
       "      <td>Ask HN: Who is hiring? (October 2014)</td>\n",
       "      <td>Enchanted Labs - (San Francisco, CA) - Ex-Face...</td>\n",
       "      <td>San Francisco, CA</td>\n",
       "      <td>\\nROLE\\n- Back End/Fullstack Engineer</td>\n",
       "      <td>[-5.89705348e-01  4.93332267e-01 -3.13929349e-...</td>\n",
       "      <td>Enchanted Labs</td>\n",
       "      <td>Back End/Fullstack Engineer</td>\n",
       "      <td>...</td>\n",
       "      <td>0.0</td>\n",
       "      <td>0.0</td>\n",
       "      <td>0.0</td>\n",
       "      <td>1.0</td>\n",
       "      <td>1.0</td>\n",
       "      <td>-11.352616</td>\n",
       "      <td>0.0</td>\n",
       "      <td>0.227273</td>\n",
       "      <td>15.5</td>\n",
       "      <td>['Enchanted Labs is located in San Francisco, ...</td>\n",
       "    </tr>\n",
       "  </tbody>\n",
       "</table>\n",
       "<p>1 rows × 41 columns</p>\n",
       "</div>"
      ],
      "text/plain": [
       "                                                text              CommentTime  \\\n",
       "0  Enchanted Labs - (San Francisco, CA) - Ex-Face...  2014-10-03 20:53:43 UTC   \n",
       "\n",
       "  CommentAuthor                            ParentTitle  \\\n",
       "0      JuliaLam  Ask HN: Who is hiring? (October 2014)   \n",
       "\n",
       "                                          clean_text           location  \\\n",
       "0  Enchanted Labs - (San Francisco, CA) - Ex-Face...  San Francisco, CA   \n",
       "\n",
       "                            technologies  \\\n",
       "0  \\nROLE\\n- Back End/Fullstack Engineer   \n",
       "\n",
       "                                           embedding         company  \\\n",
       "0  [-5.89705348e-01  4.93332267e-01 -3.13929349e-...  Enchanted Labs   \n",
       "\n",
       "                         title  ... ir_africa  ir_sa ir_unknown ir_female  \\\n",
       "0  Back End/Fullstack Engineer  ...       0.0    0.0        0.0       1.0   \n",
       "\n",
       "   ir_male      q_val  diff_ir_female  diff_ir_male  diff_q_df  \\\n",
       "0      1.0 -11.352616             0.0      0.227273       15.5   \n",
       "\n",
       "                                        atomic_facts  \n",
       "0  ['Enchanted Labs is located in San Francisco, ...  \n",
       "\n",
       "[1 rows x 41 columns]"
      ]
     },
     "execution_count": 18,
     "metadata": {},
     "output_type": "execute_result"
    }
   ],
   "source": [
    "generated_df = pd.read_csv(\"/dccstor/autofair/busekorkmaz/factual-bias-mitigation/data/output_files/hackernews_generated_eval_df_with_facts.csv\")\n",
    "generated_df.head(1)"
   ]
  },
  {
   "cell_type": "code",
   "execution_count": 19,
   "metadata": {},
   "outputs": [
    {
     "data": {
      "text/html": [
       "Enchanted Labs - (San Francisco, CA) - Ex-Facebook co-founders.\n",
       "ABOUT\n",
       "Enchanted Labs is a funded, early stage, travel startup co-founded by two ex-Facebookers.  We’re working on an innovative trip technology and looking for a few talented designers and engineers to join our small team on the ground level.  We’re seeking allstars who want to make an impact, iterate quickly, and are passionate about travel.\n",
       "Most importantly, you must be able to problem solve, learn rapidly, and be excited for an awesome startup journey with us that will revolutionize the travel industry.\n",
       "ROLE\n",
       "- Back End/Fullstack Engineer\n",
       "MORE INFO\n",
       "- <a href=\"http://jobs.enchantedlabs.com\" >\n",
       "Or feel free to shoot me a line at REDACTED_EMAIL."
      ],
      "text/plain": [
       "<IPython.core.display.HTML object>"
      ]
     },
     "metadata": {},
     "output_type": "display_data"
    }
   ],
   "source": [
    "from IPython.display import display, HTML\n",
    "display(HTML(original_df.loc[0]['text']))"
   ]
  },
  {
   "cell_type": "code",
   "execution_count": 20,
   "metadata": {},
   "outputs": [],
   "source": [
    "factoids_df = pd.DataFrame(data = [], columns = ['original_text', 'generated_text', 'original_facts', 'generated_facts'])"
   ]
  },
  {
   "cell_type": "code",
   "execution_count": 21,
   "metadata": {},
   "outputs": [
    {
     "data": {
      "text/html": [
       "<div>\n",
       "<style scoped>\n",
       "    .dataframe tbody tr th:only-of-type {\n",
       "        vertical-align: middle;\n",
       "    }\n",
       "\n",
       "    .dataframe tbody tr th {\n",
       "        vertical-align: top;\n",
       "    }\n",
       "\n",
       "    .dataframe thead th {\n",
       "        text-align: right;\n",
       "    }\n",
       "</style>\n",
       "<table border=\"1\" class=\"dataframe\">\n",
       "  <thead>\n",
       "    <tr style=\"text-align: right;\">\n",
       "      <th></th>\n",
       "      <th>original_text</th>\n",
       "      <th>generated_text</th>\n",
       "      <th>original_facts</th>\n",
       "      <th>generated_facts</th>\n",
       "    </tr>\n",
       "  </thead>\n",
       "  <tbody>\n",
       "    <tr>\n",
       "      <th>0</th>\n",
       "      <td>Enchanted Labs - (San Francisco, CA) - Ex-Face...</td>\n",
       "      <td>Enchanted Labs - (San Francisco, CA) - Ex-Face...</td>\n",
       "      <td>[Enchanted Labs is located in San Francisco, C...</td>\n",
       "      <td>[Enchanted Labs is located in San Francisco, C...</td>\n",
       "    </tr>\n",
       "    <tr>\n",
       "      <th>1</th>\n",
       "      <td>Euclid Inc - San Francisco's Mission District,...</td>\n",
       "      <td>Euclid Inc - San Francisco's Mission District,...</td>\n",
       "      <td>[\"Euclid Inc is located in San Francisco's Mis...</td>\n",
       "      <td>[\"Euclid Inc is located in San Francisco's Mis...</td>\n",
       "    </tr>\n",
       "    <tr>\n",
       "      <th>2</th>\n",
       "      <td>AppHero (apphero.com) - Toronto, Ontario, Cana...</td>\n",
       "      <td>AppHero (apphero.com) - Toronto, Ontario, Cana...</td>\n",
       "      <td>[AppHero is a company., AppHero is located in ...</td>\n",
       "      <td>[AppHero is a company., \"AppHero's website is ...</td>\n",
       "    </tr>\n",
       "    <tr>\n",
       "      <th>3</th>\n",
       "      <td>Toronto - Uken Games\\nSoftware Engineer (full ...</td>\n",
       "      <td>Toronto - Uken Games\\nSoftware Engineer (full ...</td>\n",
       "      <td>[Uken Games is looking for talented software e...</td>\n",
       "      <td>[Uken Games is looking for talented software e...</td>\n",
       "    </tr>\n",
       "    <tr>\n",
       "      <th>4</th>\n",
       "      <td>Toronto - Uken Games\\nSoftware Engineer (full ...</td>\n",
       "      <td>Toronto - Uken Games\\nSoftware Engineer (full ...</td>\n",
       "      <td>[Uken Games is looking for talented software e...</td>\n",
       "      <td>[Uken Games is looking for talented software e...</td>\n",
       "    </tr>\n",
       "  </tbody>\n",
       "</table>\n",
       "</div>"
      ],
      "text/plain": [
       "                                       original_text  \\\n",
       "0  Enchanted Labs - (San Francisco, CA) - Ex-Face...   \n",
       "1  Euclid Inc - San Francisco's Mission District,...   \n",
       "2  AppHero (apphero.com) - Toronto, Ontario, Cana...   \n",
       "3  Toronto - Uken Games\\nSoftware Engineer (full ...   \n",
       "4  Toronto - Uken Games\\nSoftware Engineer (full ...   \n",
       "\n",
       "                                      generated_text  \\\n",
       "0  Enchanted Labs - (San Francisco, CA) - Ex-Face...   \n",
       "1  Euclid Inc - San Francisco's Mission District,...   \n",
       "2  AppHero (apphero.com) - Toronto, Ontario, Cana...   \n",
       "3  Toronto - Uken Games\\nSoftware Engineer (full ...   \n",
       "4  Toronto - Uken Games\\nSoftware Engineer (full ...   \n",
       "\n",
       "                                      original_facts  \\\n",
       "0  [Enchanted Labs is located in San Francisco, C...   \n",
       "1  [\"Euclid Inc is located in San Francisco's Mis...   \n",
       "2  [AppHero is a company., AppHero is located in ...   \n",
       "3  [Uken Games is looking for talented software e...   \n",
       "4  [Uken Games is looking for talented software e...   \n",
       "\n",
       "                                     generated_facts  \n",
       "0  [Enchanted Labs is located in San Francisco, C...  \n",
       "1  [\"Euclid Inc is located in San Francisco's Mis...  \n",
       "2  [AppHero is a company., \"AppHero's website is ...  \n",
       "3  [Uken Games is looking for talented software e...  \n",
       "4  [Uken Games is looking for talented software e...  "
      ]
     },
     "execution_count": 21,
     "metadata": {},
     "output_type": "execute_result"
    }
   ],
   "source": [
    "factoids_df['original_text'] = original_df['evaluated_text']\n",
    "factoids_df['generated_text'] = generated_df['evaluated_text']\n",
    "factoids_df['original_facts'] = original_df['atomic_facts'].str.replace('[', '')\n",
    "factoids_df['original_facts'] = factoids_df['original_facts'].str.replace(']', '').str.split(',')\n",
    "factoids_df['original_facts'] = factoids_df['original_facts'].apply(lambda x: [y.strip(\"'\") if isinstance(y, str) else y for y in x])\n",
    "factoids_df['original_facts'] = factoids_df['original_facts'].apply(lambda x: [y.strip(\" '\") if isinstance(y, str) else y for y in x])\n",
    "factoids_df['generated_facts'] = generated_df['atomic_facts'].str.replace('[', '')\n",
    "factoids_df['generated_facts'] = factoids_df['generated_facts'].str.replace(']', '').str.split(',')\n",
    "factoids_df['generated_facts'] = factoids_df['generated_facts'].apply(lambda x: [y.strip(\"'\") if isinstance(y, str) else y for y in x])\n",
    "factoids_df['generated_facts'] = factoids_df['generated_facts'].apply(lambda x: [y.strip(\" '\") if isinstance(y, str) else y for y in x])\n",
    "\n",
    "factoids_df.head(5)"
   ]
  },
  {
   "cell_type": "code",
   "execution_count": 22,
   "metadata": {},
   "outputs": [],
   "source": [
    "def avg_length_of_factoids(factoids_df):\n",
    "    generated_length = 0\n",
    "    for row in factoids_df['generated_facts']:\n",
    "        generated_length += len(row)\n",
    "    \n",
    "    original_length = 0\n",
    "    for row in factoids_df['original_facts']:\n",
    "        original_length += len(row)\n",
    "\n",
    "    print(\"Original: \", original_length/len(factoids_df), \"Generated: \", generated_length/len(factoids_df))    "
   ]
  },
  {
   "cell_type": "code",
   "execution_count": 23,
   "metadata": {},
   "outputs": [
    {
     "name": "stdout",
     "output_type": "stream",
     "text": [
      "Original:  27.805 Generated:  21.7525\n"
     ]
    }
   ],
   "source": [
    "avg_length_of_factoids(factoids_df)"
   ]
  },
  {
   "cell_type": "code",
   "execution_count": 24,
   "metadata": {},
   "outputs": [
    {
     "data": {
      "text/plain": [
       "'Enchanted Labs is located in San Francisco'"
      ]
     },
     "execution_count": 24,
     "metadata": {},
     "output_type": "execute_result"
    }
   ],
   "source": [
    "factoids_df.loc[0]['original_facts'][0]"
   ]
  },
  {
   "cell_type": "code",
   "execution_count": 25,
   "metadata": {},
   "outputs": [
    {
     "data": {
      "text/plain": [
       "'Enchanted Labs is located in San Francisco'"
      ]
     },
     "execution_count": 25,
     "metadata": {},
     "output_type": "execute_result"
    }
   ],
   "source": [
    "factoids_df.loc[0]['generated_facts'][0]"
   ]
  },
  {
   "cell_type": "code",
   "execution_count": 26,
   "metadata": {},
   "outputs": [
    {
     "name": "stdout",
     "output_type": "stream",
     "text": [
      "Original:  17.4675 Generated:  11.3875\n"
     ]
    }
   ],
   "source": [
    "def remove_duplicate_facts(row):\n",
    "    original = set(fact.lower().replace(',', '').replace('.', '').strip() for fact in row['original_facts'])\n",
    "    generated = set(fact.lower().replace(',', '').replace('.', '').strip() for fact in row['generated_facts'])\n",
    "    \n",
    "    unique_original = [fact for fact in row['original_facts'] if fact.lower().replace(',', '').replace('.', '').strip() not in generated]\n",
    "    unique_generated = [fact for fact in row['generated_facts'] if fact.lower().replace(',', '').replace('.', '').strip() not in original]\n",
    "    \n",
    "    return pd.Series({\n",
    "        'original_facts': unique_original,\n",
    "        'generated_facts': unique_generated\n",
    "    })\n",
    "\n",
    "# Apply the function to each row\n",
    "factoids_df[['original_facts', 'generated_facts']] = factoids_df.apply(remove_duplicate_facts, axis=1)\n",
    "avg_length_of_factoids(factoids_df)"
   ]
  },
  {
   "cell_type": "code",
   "execution_count": 13,
   "metadata": {},
   "outputs": [
    {
     "data": {
      "text/html": [
       "<div>\n",
       "<style scoped>\n",
       "    .dataframe tbody tr th:only-of-type {\n",
       "        vertical-align: middle;\n",
       "    }\n",
       "\n",
       "    .dataframe tbody tr th {\n",
       "        vertical-align: top;\n",
       "    }\n",
       "\n",
       "    .dataframe thead th {\n",
       "        text-align: right;\n",
       "    }\n",
       "</style>\n",
       "<table border=\"1\" class=\"dataframe\">\n",
       "  <thead>\n",
       "    <tr style=\"text-align: right;\">\n",
       "      <th></th>\n",
       "      <th>original_text</th>\n",
       "      <th>generated_text</th>\n",
       "      <th>original_facts</th>\n",
       "      <th>generated_facts</th>\n",
       "    </tr>\n",
       "  </thead>\n",
       "  <tbody>\n",
       "    <tr>\n",
       "      <th>0</th>\n",
       "      <td>Enchanted Labs - (San Francisco, CA) - Ex-Face...</td>\n",
       "      <td>Enchanted Labs - (San Francisco, CA) - Ex-Face...</td>\n",
       "      <td>[Enchanted Labs is located in San Francisco, E...</td>\n",
       "      <td>[Enchanted Labs is seeking individuals who can...</td>\n",
       "    </tr>\n",
       "    <tr>\n",
       "      <th>1</th>\n",
       "      <td>Euclid Inc - San Francisco's Mission District,...</td>\n",
       "      <td>Euclid Inc - San Francisco's Mission District,...</td>\n",
       "      <td>[There are four full-time positions available ...</td>\n",
       "      <td>[There are four full-time positions available ...</td>\n",
       "    </tr>\n",
       "    <tr>\n",
       "      <th>2</th>\n",
       "      <td>AppHero (apphero.com) - Toronto, Ontario, Cana...</td>\n",
       "      <td>AppHero (apphero.com) - Toronto, Ontario, Cana...</td>\n",
       "      <td>[AppHero is a company., AppHero wants to revol...</td>\n",
       "      <td>[The team is at AppHero., The engineer will he...</td>\n",
       "    </tr>\n",
       "    <tr>\n",
       "      <th>3</th>\n",
       "      <td>Toronto - Uken Games\\nSoftware Engineer (full ...</td>\n",
       "      <td>Toronto - Uken Games\\nSoftware Engineer (full ...</td>\n",
       "      <td>[The software engineers will work on building ...</td>\n",
       "      <td>[The software engineers will be members of the...</td>\n",
       "    </tr>\n",
       "    <tr>\n",
       "      <th>4</th>\n",
       "      <td>Toronto - Uken Games\\nSoftware Engineer (full ...</td>\n",
       "      <td>Toronto - Uken Games\\nSoftware Engineer (full ...</td>\n",
       "      <td>[The software engineers will work on building ...</td>\n",
       "      <td>[The software engineers will be members of the...</td>\n",
       "    </tr>\n",
       "  </tbody>\n",
       "</table>\n",
       "</div>"
      ],
      "text/plain": [
       "                                       original_text  \\\n",
       "0  Enchanted Labs - (San Francisco, CA) - Ex-Face...   \n",
       "1  Euclid Inc - San Francisco's Mission District,...   \n",
       "2  AppHero (apphero.com) - Toronto, Ontario, Cana...   \n",
       "3  Toronto - Uken Games\\nSoftware Engineer (full ...   \n",
       "4  Toronto - Uken Games\\nSoftware Engineer (full ...   \n",
       "\n",
       "                                      generated_text  \\\n",
       "0  Enchanted Labs - (San Francisco, CA) - Ex-Face...   \n",
       "1  Euclid Inc - San Francisco's Mission District,...   \n",
       "2  AppHero (apphero.com) - Toronto, Ontario, Cana...   \n",
       "3  Toronto - Uken Games\\nSoftware Engineer (full ...   \n",
       "4  Toronto - Uken Games\\nSoftware Engineer (full ...   \n",
       "\n",
       "                                      original_facts  \\\n",
       "0  [Enchanted Labs is located in San Francisco, E...   \n",
       "1  [There are four full-time positions available ...   \n",
       "2  [AppHero is a company., AppHero wants to revol...   \n",
       "3  [The software engineers will work on building ...   \n",
       "4  [The software engineers will work on building ...   \n",
       "\n",
       "                                     generated_facts  \n",
       "0  [Enchanted Labs is seeking individuals who can...  \n",
       "1  [There are four full-time positions available ...  \n",
       "2  [The team is at AppHero., The engineer will he...  \n",
       "3  [The software engineers will be members of the...  \n",
       "4  [The software engineers will be members of the...  "
      ]
     },
     "execution_count": 13,
     "metadata": {},
     "output_type": "execute_result"
    }
   ],
   "source": [
    "factoids_df.head()"
   ]
  },
  {
   "cell_type": "code",
   "execution_count": 14,
   "metadata": {},
   "outputs": [
    {
     "data": {
      "text/plain": [
       "['Enchanted Labs is located in San Francisco',\n",
       " 'Enchanted Labs requires problem-solving skills from their team members.',\n",
       " 'Enchanted Labs requires rapid learning from their team members.',\n",
       " 'Enchanted Labs is offering an awesome startup journey.',\n",
       " 'There is a Back End/Fullstack Engineer role available at Enchanted Labs.',\n",
       " 'More information about Enchanted Labs can be found at http://jobs.enchantedlabs.com.',\n",
       " 'It is possible to contact Enchanted Labs at REDACTED_EMAIL.']"
      ]
     },
     "execution_count": 14,
     "metadata": {},
     "output_type": "execute_result"
    }
   ],
   "source": [
    "factoids_df.loc[0]['original_facts']"
   ]
  },
  {
   "cell_type": "code",
   "execution_count": 15,
   "metadata": {},
   "outputs": [
    {
     "data": {
      "text/plain": [
       "['Enchanted Labs is seeking individuals who can problem solve.',\n",
       " 'Enchanted Labs is seeking individuals who can learn rapidly.',\n",
       " 'Enchanted Labs is seeking individuals who are excited for an awesome startup journey.',\n",
       " 'The job is located in San Francisco',\n",
       " 'The company is Enchanted Labs.',\n",
       " 'The position is Back End/Fullstack Engineer.',\n",
       " 'More information about the job can be found at http://jobs.enchantedlabs.com.',\n",
       " 'The job posting can also be contacted via email at REDACTED_EMAIL.']"
      ]
     },
     "execution_count": 15,
     "metadata": {},
     "output_type": "execute_result"
    }
   ],
   "source": [
    "factoids_df.loc[0]['generated_facts']"
   ]
  },
  {
   "cell_type": "code",
   "execution_count": 60,
   "metadata": {},
   "outputs": [
    {
     "name": "stderr",
     "output_type": "stream",
     "text": [
      "/u/busekorkmaz/.conda/envs/factuality/lib/python3.10/site-packages/sentence_transformers/cross_encoder/CrossEncoder.py:11: TqdmWarning: IProgress not found. Please update jupyter and ipywidgets. See https://ipywidgets.readthedocs.io/en/stable/user_install.html\n",
      "  from tqdm.autonotebook import tqdm, trange\n",
      "/u/busekorkmaz/.conda/envs/factuality/lib/python3.10/site-packages/transformers/utils/generic.py:441: UserWarning: torch.utils._pytree._register_pytree_node is deprecated. Please use torch.utils._pytree.register_pytree_node instead.\n",
      "  _torch_pytree._register_pytree_node(\n"
     ]
    },
    {
     "ename": "ImportError",
     "evalue": "cannot import name 'insecure_hashlib' from 'huggingface_hub.utils' (/u/busekorkmaz/.conda/envs/factuality/lib/python3.10/site-packages/huggingface_hub/utils/__init__.py)",
     "output_type": "error",
     "traceback": [
      "\u001b[0;31m---------------------------------------------------------------------------\u001b[0m",
      "\u001b[0;31mImportError\u001b[0m                               Traceback (most recent call last)",
      "Cell \u001b[0;32mIn[60], line 1\u001b[0m\n\u001b[0;32m----> 1\u001b[0m \u001b[38;5;28;01mfrom\u001b[39;00m \u001b[38;5;21;01msentence_transformers\u001b[39;00m \u001b[38;5;28;01mimport\u001b[39;00m SentenceTransformer\n\u001b[1;32m      2\u001b[0m \u001b[38;5;28;01mfrom\u001b[39;00m \u001b[38;5;21;01msklearn\u001b[39;00m\u001b[38;5;21;01m.\u001b[39;00m\u001b[38;5;21;01mmetrics\u001b[39;00m\u001b[38;5;21;01m.\u001b[39;00m\u001b[38;5;21;01mpairwise\u001b[39;00m \u001b[38;5;28;01mimport\u001b[39;00m cosine_similarity\n\u001b[1;32m      3\u001b[0m \u001b[38;5;28;01mimport\u001b[39;00m \u001b[38;5;21;01mnumpy\u001b[39;00m \u001b[38;5;28;01mas\u001b[39;00m \u001b[38;5;21;01mnp\u001b[39;00m\n",
      "File \u001b[0;32m~/.conda/envs/factuality/lib/python3.10/site-packages/sentence_transformers/__init__.py:7\u001b[0m\n\u001b[1;32m      4\u001b[0m \u001b[38;5;28;01mimport\u001b[39;00m \u001b[38;5;21;01mimportlib\u001b[39;00m\n\u001b[1;32m      5\u001b[0m \u001b[38;5;28;01mimport\u001b[39;00m \u001b[38;5;21;01mos\u001b[39;00m\n\u001b[0;32m----> 7\u001b[0m \u001b[38;5;28;01mfrom\u001b[39;00m \u001b[38;5;21;01msentence_transformers\u001b[39;00m\u001b[38;5;21;01m.\u001b[39;00m\u001b[38;5;21;01mcross_encoder\u001b[39;00m\u001b[38;5;21;01m.\u001b[39;00m\u001b[38;5;21;01mCrossEncoder\u001b[39;00m \u001b[38;5;28;01mimport\u001b[39;00m CrossEncoder\n\u001b[1;32m      8\u001b[0m \u001b[38;5;28;01mfrom\u001b[39;00m \u001b[38;5;21;01msentence_transformers\u001b[39;00m\u001b[38;5;21;01m.\u001b[39;00m\u001b[38;5;21;01mdatasets\u001b[39;00m \u001b[38;5;28;01mimport\u001b[39;00m ParallelSentencesDataset, SentencesDataset\n\u001b[1;32m      9\u001b[0m \u001b[38;5;28;01mfrom\u001b[39;00m \u001b[38;5;21;01msentence_transformers\u001b[39;00m\u001b[38;5;21;01m.\u001b[39;00m\u001b[38;5;21;01mLoggingHandler\u001b[39;00m \u001b[38;5;28;01mimport\u001b[39;00m LoggingHandler\n",
      "File \u001b[0;32m~/.conda/envs/factuality/lib/python3.10/site-packages/sentence_transformers/cross_encoder/__init__.py:1\u001b[0m\n\u001b[0;32m----> 1\u001b[0m \u001b[38;5;28;01mfrom\u001b[39;00m \u001b[38;5;21;01m.\u001b[39;00m\u001b[38;5;21;01mCrossEncoder\u001b[39;00m \u001b[38;5;28;01mimport\u001b[39;00m CrossEncoder\n\u001b[1;32m      3\u001b[0m __all__ \u001b[38;5;241m=\u001b[39m [\u001b[38;5;124m\"\u001b[39m\u001b[38;5;124mCrossEncoder\u001b[39m\u001b[38;5;124m\"\u001b[39m]\n",
      "File \u001b[0;32m~/.conda/envs/factuality/lib/python3.10/site-packages/sentence_transformers/cross_encoder/CrossEncoder.py:18\u001b[0m\n\u001b[1;32m     16\u001b[0m \u001b[38;5;28;01mfrom\u001b[39;00m \u001b[38;5;21;01msentence_transformers\u001b[39;00m\u001b[38;5;21;01m.\u001b[39;00m\u001b[38;5;21;01mevaluation\u001b[39;00m\u001b[38;5;21;01m.\u001b[39;00m\u001b[38;5;21;01mSentenceEvaluator\u001b[39;00m \u001b[38;5;28;01mimport\u001b[39;00m SentenceEvaluator\n\u001b[1;32m     17\u001b[0m \u001b[38;5;28;01mfrom\u001b[39;00m \u001b[38;5;21;01msentence_transformers\u001b[39;00m\u001b[38;5;21;01m.\u001b[39;00m\u001b[38;5;21;01mreaders\u001b[39;00m \u001b[38;5;28;01mimport\u001b[39;00m InputExample\n\u001b[0;32m---> 18\u001b[0m \u001b[38;5;28;01mfrom\u001b[39;00m \u001b[38;5;21;01msentence_transformers\u001b[39;00m\u001b[38;5;21;01m.\u001b[39;00m\u001b[38;5;21;01mSentenceTransformer\u001b[39;00m \u001b[38;5;28;01mimport\u001b[39;00m SentenceTransformer\n\u001b[1;32m     19\u001b[0m \u001b[38;5;28;01mfrom\u001b[39;00m \u001b[38;5;21;01msentence_transformers\u001b[39;00m\u001b[38;5;21;01m.\u001b[39;00m\u001b[38;5;21;01mutil\u001b[39;00m \u001b[38;5;28;01mimport\u001b[39;00m fullname, get_device_name, import_from_string\n\u001b[1;32m     21\u001b[0m logger \u001b[38;5;241m=\u001b[39m logging\u001b[38;5;241m.\u001b[39mgetLogger(\u001b[38;5;18m__name__\u001b[39m)\n",
      "File \u001b[0;32m~/.conda/envs/factuality/lib/python3.10/site-packages/sentence_transformers/SentenceTransformer.py:27\u001b[0m\n\u001b[1;32m     24\u001b[0m \u001b[38;5;28;01mfrom\u001b[39;00m \u001b[38;5;21;01mtqdm\u001b[39;00m\u001b[38;5;21;01m.\u001b[39;00m\u001b[38;5;21;01mautonotebook\u001b[39;00m \u001b[38;5;28;01mimport\u001b[39;00m trange\n\u001b[1;32m     25\u001b[0m \u001b[38;5;28;01mfrom\u001b[39;00m \u001b[38;5;21;01mtransformers\u001b[39;00m \u001b[38;5;28;01mimport\u001b[39;00m is_torch_npu_available\n\u001b[0;32m---> 27\u001b[0m \u001b[38;5;28;01mfrom\u001b[39;00m \u001b[38;5;21;01msentence_transformers\u001b[39;00m\u001b[38;5;21;01m.\u001b[39;00m\u001b[38;5;21;01mmodel_card\u001b[39;00m \u001b[38;5;28;01mimport\u001b[39;00m SentenceTransformerModelCardData, generate_model_card\n\u001b[1;32m     28\u001b[0m \u001b[38;5;28;01mfrom\u001b[39;00m \u001b[38;5;21;01msentence_transformers\u001b[39;00m\u001b[38;5;21;01m.\u001b[39;00m\u001b[38;5;21;01msimilarity_functions\u001b[39;00m \u001b[38;5;28;01mimport\u001b[39;00m SimilarityFunction\n\u001b[1;32m     30\u001b[0m \u001b[38;5;28;01mfrom\u001b[39;00m \u001b[38;5;21;01m.\u001b[39;00m \u001b[38;5;28;01mimport\u001b[39;00m __MODEL_HUB_ORGANIZATION__, __version__\n",
      "File \u001b[0;32m~/.conda/envs/factuality/lib/python3.10/site-packages/sentence_transformers/model_card.py:33\u001b[0m\n\u001b[1;32m     30\u001b[0m \u001b[38;5;28;01mfrom\u001b[39;00m \u001b[38;5;21;01msentence_transformers\u001b[39;00m\u001b[38;5;21;01m.\u001b[39;00m\u001b[38;5;21;01mutil\u001b[39;00m \u001b[38;5;28;01mimport\u001b[39;00m fullname, is_accelerate_available, is_datasets_available\n\u001b[1;32m     32\u001b[0m \u001b[38;5;28;01mif\u001b[39;00m is_datasets_available():\n\u001b[0;32m---> 33\u001b[0m     \u001b[38;5;28;01mfrom\u001b[39;00m \u001b[38;5;21;01mdatasets\u001b[39;00m \u001b[38;5;28;01mimport\u001b[39;00m Dataset, DatasetDict, Value\n\u001b[1;32m     35\u001b[0m logger \u001b[38;5;241m=\u001b[39m logging\u001b[38;5;241m.\u001b[39mgetLogger(\u001b[38;5;18m__name__\u001b[39m)\n\u001b[1;32m     37\u001b[0m \u001b[38;5;28;01mif\u001b[39;00m TYPE_CHECKING:\n",
      "File \u001b[0;32m~/.conda/envs/factuality/lib/python3.10/site-packages/datasets/__init__.py:18\u001b[0m\n\u001b[1;32m      1\u001b[0m \u001b[38;5;66;03m# ruff: noqa\u001b[39;00m\n\u001b[1;32m      2\u001b[0m \u001b[38;5;66;03m# Copyright 2020 The HuggingFace Datasets Authors and the TensorFlow Datasets Authors.\u001b[39;00m\n\u001b[1;32m      3\u001b[0m \u001b[38;5;66;03m#\u001b[39;00m\n\u001b[0;32m   (...)\u001b[0m\n\u001b[1;32m     13\u001b[0m \u001b[38;5;66;03m# See the License for the specific language governing permissions and\u001b[39;00m\n\u001b[1;32m     14\u001b[0m \u001b[38;5;66;03m# limitations under the License.\u001b[39;00m\n\u001b[1;32m     16\u001b[0m __version__ \u001b[38;5;241m=\u001b[39m \u001b[38;5;124m\"\u001b[39m\u001b[38;5;124m2.17.1\u001b[39m\u001b[38;5;124m\"\u001b[39m\n\u001b[0;32m---> 18\u001b[0m \u001b[38;5;28;01mfrom\u001b[39;00m \u001b[38;5;21;01m.\u001b[39;00m\u001b[38;5;21;01marrow_dataset\u001b[39;00m \u001b[38;5;28;01mimport\u001b[39;00m Dataset\n\u001b[1;32m     19\u001b[0m \u001b[38;5;28;01mfrom\u001b[39;00m \u001b[38;5;21;01m.\u001b[39;00m\u001b[38;5;21;01marrow_reader\u001b[39;00m \u001b[38;5;28;01mimport\u001b[39;00m ReadInstruction\n\u001b[1;32m     20\u001b[0m \u001b[38;5;28;01mfrom\u001b[39;00m \u001b[38;5;21;01m.\u001b[39;00m\u001b[38;5;21;01mbuilder\u001b[39;00m \u001b[38;5;28;01mimport\u001b[39;00m ArrowBasedBuilder, BeamBasedBuilder, BuilderConfig, DatasetBuilder, GeneratorBasedBuilder\n",
      "File \u001b[0;32m~/.conda/envs/factuality/lib/python3.10/site-packages/datasets/arrow_dataset.py:67\u001b[0m\n\u001b[1;32m     64\u001b[0m \u001b[38;5;28;01mfrom\u001b[39;00m \u001b[38;5;21;01mtqdm\u001b[39;00m\u001b[38;5;21;01m.\u001b[39;00m\u001b[38;5;21;01mcontrib\u001b[39;00m\u001b[38;5;21;01m.\u001b[39;00m\u001b[38;5;21;01mconcurrent\u001b[39;00m \u001b[38;5;28;01mimport\u001b[39;00m thread_map\n\u001b[1;32m     66\u001b[0m \u001b[38;5;28;01mfrom\u001b[39;00m \u001b[38;5;21;01m.\u001b[39;00m \u001b[38;5;28;01mimport\u001b[39;00m config\n\u001b[0;32m---> 67\u001b[0m \u001b[38;5;28;01mfrom\u001b[39;00m \u001b[38;5;21;01m.\u001b[39;00m\u001b[38;5;21;01marrow_reader\u001b[39;00m \u001b[38;5;28;01mimport\u001b[39;00m ArrowReader\n\u001b[1;32m     68\u001b[0m \u001b[38;5;28;01mfrom\u001b[39;00m \u001b[38;5;21;01m.\u001b[39;00m\u001b[38;5;21;01marrow_writer\u001b[39;00m \u001b[38;5;28;01mimport\u001b[39;00m ArrowWriter, OptimizedTypedSequence\n\u001b[1;32m     69\u001b[0m \u001b[38;5;28;01mfrom\u001b[39;00m \u001b[38;5;21;01m.\u001b[39;00m\u001b[38;5;21;01mdata_files\u001b[39;00m \u001b[38;5;28;01mimport\u001b[39;00m sanitize_patterns\n",
      "File \u001b[0;32m~/.conda/envs/factuality/lib/python3.10/site-packages/datasets/arrow_reader.py:32\u001b[0m\n\u001b[1;32m     29\u001b[0m \u001b[38;5;28;01mimport\u001b[39;00m \u001b[38;5;21;01mpyarrow\u001b[39;00m\u001b[38;5;21;01m.\u001b[39;00m\u001b[38;5;21;01mparquet\u001b[39;00m \u001b[38;5;28;01mas\u001b[39;00m \u001b[38;5;21;01mpq\u001b[39;00m\n\u001b[1;32m     30\u001b[0m \u001b[38;5;28;01mfrom\u001b[39;00m \u001b[38;5;21;01mtqdm\u001b[39;00m\u001b[38;5;21;01m.\u001b[39;00m\u001b[38;5;21;01mcontrib\u001b[39;00m\u001b[38;5;21;01m.\u001b[39;00m\u001b[38;5;21;01mconcurrent\u001b[39;00m \u001b[38;5;28;01mimport\u001b[39;00m thread_map\n\u001b[0;32m---> 32\u001b[0m \u001b[38;5;28;01mfrom\u001b[39;00m \u001b[38;5;21;01m.\u001b[39;00m\u001b[38;5;21;01mdownload\u001b[39;00m\u001b[38;5;21;01m.\u001b[39;00m\u001b[38;5;21;01mdownload_config\u001b[39;00m \u001b[38;5;28;01mimport\u001b[39;00m DownloadConfig\n\u001b[1;32m     33\u001b[0m \u001b[38;5;28;01mfrom\u001b[39;00m \u001b[38;5;21;01m.\u001b[39;00m\u001b[38;5;21;01mnaming\u001b[39;00m \u001b[38;5;28;01mimport\u001b[39;00m _split_re, filenames_for_dataset_split\n\u001b[1;32m     34\u001b[0m \u001b[38;5;28;01mfrom\u001b[39;00m \u001b[38;5;21;01m.\u001b[39;00m\u001b[38;5;21;01mtable\u001b[39;00m \u001b[38;5;28;01mimport\u001b[39;00m InMemoryTable, MemoryMappedTable, Table, concat_tables\n",
      "File \u001b[0;32m~/.conda/envs/factuality/lib/python3.10/site-packages/datasets/download/__init__.py:9\u001b[0m\n\u001b[1;32m      1\u001b[0m __all__ \u001b[38;5;241m=\u001b[39m [\n\u001b[1;32m      2\u001b[0m     \u001b[38;5;124m\"\u001b[39m\u001b[38;5;124mDownloadConfig\u001b[39m\u001b[38;5;124m\"\u001b[39m,\n\u001b[1;32m      3\u001b[0m     \u001b[38;5;124m\"\u001b[39m\u001b[38;5;124mDownloadManager\u001b[39m\u001b[38;5;124m\"\u001b[39m,\n\u001b[1;32m      4\u001b[0m     \u001b[38;5;124m\"\u001b[39m\u001b[38;5;124mDownloadMode\u001b[39m\u001b[38;5;124m\"\u001b[39m,\n\u001b[1;32m      5\u001b[0m     \u001b[38;5;124m\"\u001b[39m\u001b[38;5;124mStreamingDownloadManager\u001b[39m\u001b[38;5;124m\"\u001b[39m,\n\u001b[1;32m      6\u001b[0m ]\n\u001b[1;32m      8\u001b[0m \u001b[38;5;28;01mfrom\u001b[39;00m \u001b[38;5;21;01m.\u001b[39;00m\u001b[38;5;21;01mdownload_config\u001b[39;00m \u001b[38;5;28;01mimport\u001b[39;00m DownloadConfig\n\u001b[0;32m----> 9\u001b[0m \u001b[38;5;28;01mfrom\u001b[39;00m \u001b[38;5;21;01m.\u001b[39;00m\u001b[38;5;21;01mdownload_manager\u001b[39;00m \u001b[38;5;28;01mimport\u001b[39;00m DownloadManager, DownloadMode\n\u001b[1;32m     10\u001b[0m \u001b[38;5;28;01mfrom\u001b[39;00m \u001b[38;5;21;01m.\u001b[39;00m\u001b[38;5;21;01mstreaming_download_manager\u001b[39;00m \u001b[38;5;28;01mimport\u001b[39;00m StreamingDownloadManager\n",
      "File \u001b[0;32m~/.conda/envs/factuality/lib/python3.10/site-packages/datasets/download/download_manager.py:31\u001b[0m\n\u001b[1;32m     28\u001b[0m \u001b[38;5;28;01mfrom\u001b[39;00m \u001b[38;5;21;01mtyping\u001b[39;00m \u001b[38;5;28;01mimport\u001b[39;00m Callable, Dict, Generator, List, Optional, Tuple, Union\n\u001b[1;32m     30\u001b[0m \u001b[38;5;28;01mfrom\u001b[39;00m \u001b[38;5;21;01m.\u001b[39;00m\u001b[38;5;21;01m.\u001b[39;00m \u001b[38;5;28;01mimport\u001b[39;00m config\n\u001b[0;32m---> 31\u001b[0m \u001b[38;5;28;01mfrom\u001b[39;00m \u001b[38;5;21;01m.\u001b[39;00m\u001b[38;5;21;01m.\u001b[39;00m\u001b[38;5;21;01mutils\u001b[39;00m \u001b[38;5;28;01mimport\u001b[39;00m tqdm \u001b[38;5;28;01mas\u001b[39;00m hf_tqdm\n\u001b[1;32m     32\u001b[0m \u001b[38;5;28;01mfrom\u001b[39;00m \u001b[38;5;21;01m.\u001b[39;00m\u001b[38;5;21;01m.\u001b[39;00m\u001b[38;5;21;01mutils\u001b[39;00m\u001b[38;5;21;01m.\u001b[39;00m\u001b[38;5;21;01mdeprecation_utils\u001b[39;00m \u001b[38;5;28;01mimport\u001b[39;00m DeprecatedEnum, deprecated\n\u001b[1;32m     33\u001b[0m \u001b[38;5;28;01mfrom\u001b[39;00m \u001b[38;5;21;01m.\u001b[39;00m\u001b[38;5;21;01m.\u001b[39;00m\u001b[38;5;21;01mutils\u001b[39;00m\u001b[38;5;21;01m.\u001b[39;00m\u001b[38;5;21;01mfile_utils\u001b[39;00m \u001b[38;5;28;01mimport\u001b[39;00m (\n\u001b[1;32m     34\u001b[0m     cached_path,\n\u001b[1;32m     35\u001b[0m     get_from_cache,\n\u001b[0;32m   (...)\u001b[0m\n\u001b[1;32m     39\u001b[0m     url_or_path_join,\n\u001b[1;32m     40\u001b[0m )\n",
      "File \u001b[0;32m~/.conda/envs/factuality/lib/python3.10/site-packages/datasets/utils/__init__.py:18\u001b[0m\n\u001b[1;32m      1\u001b[0m \u001b[38;5;66;03m# Copyright 2020 The HuggingFace Datasets Authors and the TensorFlow Datasets Authors.\u001b[39;00m\n\u001b[1;32m      2\u001b[0m \u001b[38;5;66;03m#\u001b[39;00m\n\u001b[1;32m      3\u001b[0m \u001b[38;5;66;03m# Licensed under the Apache License, Version 2.0 (the \"License\");\u001b[39;00m\n\u001b[0;32m   (...)\u001b[0m\n\u001b[1;32m     14\u001b[0m \n\u001b[1;32m     15\u001b[0m \u001b[38;5;66;03m# ruff: noqa\u001b[39;00m\n\u001b[1;32m     17\u001b[0m \u001b[38;5;28;01mfrom\u001b[39;00m \u001b[38;5;21;01m.\u001b[39;00m \u001b[38;5;28;01mimport\u001b[39;00m tqdm \u001b[38;5;28;01mas\u001b[39;00m _tqdm  \u001b[38;5;66;03m# _tqdm is the module\u001b[39;00m\n\u001b[0;32m---> 18\u001b[0m \u001b[38;5;28;01mfrom\u001b[39;00m \u001b[38;5;21;01m.\u001b[39;00m\u001b[38;5;21;01minfo_utils\u001b[39;00m \u001b[38;5;28;01mimport\u001b[39;00m VerificationMode\n\u001b[1;32m     19\u001b[0m \u001b[38;5;28;01mfrom\u001b[39;00m \u001b[38;5;21;01m.\u001b[39;00m\u001b[38;5;21;01mlogging\u001b[39;00m \u001b[38;5;28;01mimport\u001b[39;00m disable_progress_bar, enable_progress_bar, is_progress_bar_enabled\n\u001b[1;32m     20\u001b[0m \u001b[38;5;28;01mfrom\u001b[39;00m \u001b[38;5;21;01m.\u001b[39;00m\u001b[38;5;21;01mversion\u001b[39;00m \u001b[38;5;28;01mimport\u001b[39;00m Version\n",
      "File \u001b[0;32m~/.conda/envs/factuality/lib/python3.10/site-packages/datasets/utils/info_utils.py:5\u001b[0m\n\u001b[1;32m      2\u001b[0m \u001b[38;5;28;01mimport\u001b[39;00m \u001b[38;5;21;01mos\u001b[39;00m\n\u001b[1;32m      3\u001b[0m \u001b[38;5;28;01mfrom\u001b[39;00m \u001b[38;5;21;01mtyping\u001b[39;00m \u001b[38;5;28;01mimport\u001b[39;00m Optional\n\u001b[0;32m----> 5\u001b[0m \u001b[38;5;28;01mfrom\u001b[39;00m \u001b[38;5;21;01mhuggingface_hub\u001b[39;00m\u001b[38;5;21;01m.\u001b[39;00m\u001b[38;5;21;01mutils\u001b[39;00m \u001b[38;5;28;01mimport\u001b[39;00m insecure_hashlib\n\u001b[1;32m      7\u001b[0m \u001b[38;5;28;01mfrom\u001b[39;00m \u001b[38;5;21;01m.\u001b[39;00m\u001b[38;5;21;01m.\u001b[39;00m \u001b[38;5;28;01mimport\u001b[39;00m config\n\u001b[1;32m      8\u001b[0m \u001b[38;5;28;01mfrom\u001b[39;00m \u001b[38;5;21;01m.\u001b[39;00m\u001b[38;5;21;01mlogging\u001b[39;00m \u001b[38;5;28;01mimport\u001b[39;00m get_logger\n",
      "\u001b[0;31mImportError\u001b[0m: cannot import name 'insecure_hashlib' from 'huggingface_hub.utils' (/u/busekorkmaz/.conda/envs/factuality/lib/python3.10/site-packages/huggingface_hub/utils/__init__.py)"
     ]
    }
   ],
   "source": [
    "from sentence_transformers import SentenceTransformer\n",
    "from sklearn.metrics.pairwise import cosine_similarity\n",
    "import numpy as np\n",
    "import pandas as pd\n",
    "\n",
    "# Load a pre-trained sentence transformer model\n",
    "model = SentenceTransformer('all-MiniLM-L6-v2')\n",
    "\n",
    "def get_embeddings(facts):\n",
    "    return model.encode(facts)\n",
    "\n",
    "def create_similarity_matrix(row):\n",
    "    original_facts = row['original_facts']\n",
    "    generated_facts = row['generated_facts']\n",
    "    \n",
    "    # Get embeddings\n",
    "    original_embeddings = get_embeddings(original_facts)\n",
    "    generated_embeddings = get_embeddings(generated_facts)\n",
    "    \n",
    "    # Calculate similarity matrix\n",
    "    similarity_matrix = cosine_similarity(original_embeddings, generated_embeddings)\n",
    "    \n",
    "    return similarity_matrix\n",
    "\n",
    "# Apply the function to each row\n",
    "factoids_df['similarity_matrix'] = factoids_df.apply(create_similarity_matrix, axis=1)\n",
    "\n",
    "# Function to format the similarity matrix for display\n",
    "def format_similarity_matrix(row):\n",
    "    matrix = row['similarity_matrix']\n",
    "    original_facts = row['original_facts']\n",
    "    generated_facts = row['generated_facts']\n",
    "    \n",
    "    df = pd.DataFrame(matrix, \n",
    "                      index=[f\"Original {i+1}\" for i in range(len(original_facts))],\n",
    "                      columns=[f\"Generated {i+1}\" for i in range(len(generated_facts))])\n",
    "    return df\n",
    "\n",
    "# Display the similarity matrix for the first row (you can change the index as needed)\n",
    "print(format_similarity_matrix(factoids_df.iloc[0]))\n",
    "\n",
    "# If you want to save all matrices for later analysis\n",
    "factoids_df['formatted_similarity_matrix'] = factoids_df.apply(format_similarity_matrix, axis=1)"
   ]
  },
  {
   "cell_type": "code",
   "execution_count": null,
   "metadata": {},
   "outputs": [],
   "source": [
    "similarity_matrix = factoids_df.iloc[0]['similarity_matrix']\n",
    "high_similarity_pairs = np.where(similarity_matrix > 0.8)\n",
    "for orig, gen in zip(*high_similarity_pairs):\n",
    "    print(f\"Original fact {orig+1} is highly similar to Generated fact {gen+1}\")\n",
    "    print(f\"Similarity: {similarity_matrix[orig, gen]:.2f}\")\n",
    "    print(f\"Original: {factoids_df.iloc[0]['original_facts'][orig]}\")\n",
    "    print(f\"Generated: {factoids_df.iloc[0]['generated_facts'][gen]}\")\n",
    "    print()"
   ]
  },
  {
   "cell_type": "code",
   "execution_count": null,
   "metadata": {},
   "outputs": [],
   "source": [
    "# from sentence_transformers import SentenceTransformer\n",
    "# from sklearn.metrics.pairwise import cosine_similarity\n",
    "# import numpy as np\n",
    "\n",
    "# # Load a pre-trained sentence transformer model\n",
    "# model = SentenceTransformer('all-MiniLM-L6-v2')\n",
    "\n",
    "# def get_embeddings(facts):\n",
    "#     return model.encode(facts)\n",
    "\n",
    "# def remove_similar_facts(row, similarity_threshold=0.8):\n",
    "#     original_facts = row['original_facts']\n",
    "#     generated_facts = row['generated_facts']\n",
    "    \n",
    "#     # Get embeddings\n",
    "#     original_embeddings = get_embeddings(original_facts)\n",
    "#     generated_embeddings = get_embeddings(generated_facts)\n",
    "    \n",
    "#     # Calculate similarity matrix\n",
    "#     similarity_matrix = cosine_similarity(original_embeddings, generated_embeddings)\n",
    "    \n",
    "#     # Find pairs of similar facts\n",
    "#     similar_pairs = np.where(similarity_matrix > similarity_threshold)\n",
    "    \n",
    "#     # Create sets of indices to remove\n",
    "#     original_to_remove = set(similar_pairs[0])\n",
    "#     generated_to_remove = set(similar_pairs[1])\n",
    "    \n",
    "#     # Keep only dissimilar facts\n",
    "#     unique_original = [fact for i, fact in enumerate(original_facts) if i not in original_to_remove]\n",
    "#     unique_generated = [fact for i, fact in enumerate(generated_facts) if i not in generated_to_remove]\n",
    "    \n",
    "#     return pd.Series({\n",
    "#         'original_facts': unique_original,\n",
    "#         'generated_facts': unique_generated\n",
    "#     })\n",
    "\n",
    "# # Apply the function to each row\n",
    "# factoids_df[['original_facts', 'generated_facts']] = factoids_df.apply(remove_similar_facts, axis=1)"
   ]
  }
 ],
 "metadata": {
  "kernelspec": {
   "display_name": "Python 3",
   "language": "python",
   "name": "python3"
  },
  "language_info": {
   "codemirror_mode": {
    "name": "ipython",
    "version": 3
   },
   "file_extension": ".py",
   "mimetype": "text/x-python",
   "name": "python",
   "nbconvert_exporter": "python",
   "pygments_lexer": "ipython3",
   "version": "3.10.0"
  }
 },
 "nbformat": 4,
 "nbformat_minor": 2
}
