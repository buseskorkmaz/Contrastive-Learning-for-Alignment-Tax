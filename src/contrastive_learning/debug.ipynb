{
 "cells": [
  {
   "cell_type": "code",
   "execution_count": 31,
   "metadata": {},
   "outputs": [],
   "source": [
    "import os\n",
    "import sys\n",
    "import logging\n",
    "import json\n",
    "sys.path.append(os.path.join('/gpfs/home/bsk18/factual-bias-mitigation/src/contrastive_learning/', '../../'))\n",
    "\n",
    "from src.contrastive_learning.utils import (\n",
    "    print_gpu_memory, \n",
    "    read_files, \n",
    "    combine_data,\n",
    "    calculate_original_factuality,\n",
    "    calculate_original_toxicity,\n",
    "    generate_dataset_name,\n",
    ")\n",
    "from src.contrastive_learning.train_utils import(\n",
    "    combined_loss,\n",
    "    evaluate_w_toxicity,\n",
    ")\n",
    "from src.contrastive_learning.model import SummarizationModel\n",
    "from src.contrastive_learning.dataset import SummarizationDataset \n",
    "\n",
    "import torch\n",
    "from torch.utils.data import DataLoader\n",
    "from torch.optim import AdamW \n",
    "from tqdm import tqdm\n",
    "from transformers import AutoModel, GPT2Tokenizer, AutoModelForCausalLM\n",
    "import random\n",
    "random.seed(42)\n",
    "import wandb\n",
    "import argparse\n",
    "from datetime import datetime\n",
    "\n",
    "# Set up logging\n",
    "import logging\n",
    "import os\n",
    "from datetime import datetime\n"
   ]
  },
  {
   "cell_type": "code",
   "execution_count": 32,
   "metadata": {},
   "outputs": [],
   "source": [
    "# Process 'all' option\n",
    "args = {'pos_data': 'all'}\n",
    "all_pos_options = ['original', 'bt']    \n",
    "if 'all' in args[\"pos_data\"]:\n",
    "    args[\"pos_data\"] = all_pos_options\n",
    "\n",
    "# Ensure 'original' is always included\n",
    "if 'original' not in args[\"pos_data\"]:\n",
    "    args[\"pos_data\"].insert(0, 'original')\n",
    "\n",
    "# Define data paths based on arguments\n",
    "pos_data_paths = ['/gpfs/home/bsk18/factual-bias-mitigation/data/tldr/pos']\n",
    "\n",
    "for opt in args[\"pos_data\"]:\n",
    "    if opt != 'original':\n",
    "        pos_data_paths.append(f'/gpfs/home/bsk18/factual-bias-mitigation/data/tldr/pos_{opt}')\n",
    "\n",
    "# Combine data from all specified paths\n",
    "logger = logging.getLogger()\n",
    "pos_data = combine_data([read_files(path, logger) for path in pos_data_paths])\n",
    "\n",
    "# Initialize the model and tokenizer\n",
    "model_name = 'gpt2'\n",
    "tokenizer = GPT2Tokenizer.from_pretrained('gpt2')\n",
    "tokenizer.padding_side = 'left'\n",
    "tokenizer.pad_token = tokenizer.eos_token\n",
    "\n",
    "model = AutoModelForCausalLM.from_pretrained('gpt2')\n",
    "\n",
    "# Set pad_token_id in model configuration\n",
    "model.config.pad_token_id = tokenizer.eos_token_id\n",
    "\n",
    "\n",
    "# Initialize datasets\n",
    "train_dataset = SummarizationDataset(pos_data['train'], tokenizer, max_length=512)\n",
    "val_dataset = SummarizationDataset(pos_data['validation'], tokenizer, max_length=512)\n",
    "test_dataset = SummarizationDataset(pos_data['test'], tokenizer, max_length=512)\n",
    "\n",
    "# Create config dictionary\n",
    "config = {\n",
    "    \"ce_weight\": 1,\n",
    "    \"model_name\": model_name,\n",
    "    \"batch_size\": 4,\n",
    "    \"learning_rate\": 1e-4,\n",
    "    \"epochs\": 10,\n",
    "}\n",
    "\n",
    "# Create DataLoaders\n",
    "train_loader = DataLoader(train_dataset, batch_size=config[\"batch_size\"])\n",
    "val_loader = DataLoader(val_dataset, batch_size=config[\"batch_size\"])\n",
    "test_loader = DataLoader(test_dataset, batch_size=config[\"batch_size\"])\n"
   ]
  },
  {
   "cell_type": "code",
   "execution_count": 33,
   "metadata": {},
   "outputs": [
    {
     "data": {
      "text/plain": [
       "{'input_ids': tensor([[50256, 50256, 50256,  ...,   783,    13, 50256],\n",
       "         [50256, 50256, 50256,  ...,  8855,    13, 50256],\n",
       "         [50256, 50256, 50256,  ..., 48389,    13, 50256],\n",
       "         [13065,  3876,  1096,  ...,  1182,    11,   314]]),\n",
       " 'attention_mask': tensor([[0, 0, 0,  ..., 1, 1, 1],\n",
       "         [0, 0, 0,  ..., 1, 1, 1],\n",
       "         [0, 0, 0,  ..., 1, 1, 1],\n",
       "         [1, 1, 1,  ..., 1, 1, 1]]),\n",
       " 'labels': tensor([[ -100,  -100,  -100,  ...,   783,    13, 50256],\n",
       "         [ -100,  -100,  -100,  ...,  8855,    13, 50256],\n",
       "         [ -100,  -100,  -100,  ..., 48389,    13, 50256],\n",
       "         [ -100,  -100,  -100,  ...,  -100,  -100,  -100]]),\n",
       " 'source_text': [\"Summarize: I'll chime in before this gets buried. Although I'm only 22 myself (bearing in mind the drinking age is 18 here), it's certainly true that even since I've been drinking there has been massive growth in interest in craft beer and 'real ale' as it'll often be called here (although arguably different things... For the sake of argument). You're right in saying we didn't have the prohibition to destroy our brewing heritage, but any older drinker from here will tell you that 20/30 years ago British ale earned it's reputation for room temperature, brown, flat ales, after big breweries took over the trade and moved to homogenise the market, along with the continental lager influx that was as far as I understand, very similar to how the big 3 took over the beer market in the US with bland pilsner style beers. Now there's a huge resurgence. I go to a beer festival in my home town each year which now has over 1000 beers, and pubs are reopening off the back of the increased interest and diversity that an ever increasing number of new breweries are offering the public. I'm on mobile now but here's one article regarding the increase.Summary:\",\n",
       "  'Summarize: A friend left my house with another friend. He left his car in my driveway. A couple of other buddies were at my house and suggested we take his car and go jump it over the railroad track. There was a dirt road that had a railroad track at the top of a hill. There was a rapid drop off on the other side, so you could get considerable air. \"Ok,\" I say and we head out. We jump it a few times before the car\\'s transmission goes out. The car would only go in reverse. We back the car back home in reverse. We were miles from my house and we even had to back it down main street. We put it in the exact spot we found it. The friend comes back, says his good-byes and gets in his car to go home. Shortly, he comes in the house furious. \"The jerk sold me a lemon! I\\'ve only had the car a week and now it\\'s leaking transmission fluid!\" It was extremely hard for us to keep a straight face. Before anyone calls us jerks, the car wasn\\'t worth much and we got it all fixed up. I told him about it 10 or so years later. Man, that was a fun day.Summary:',\n",
       "  'Summarize: Agreed. As I mentioned in a reply to a now buried comment. This is terrible journalism and economic method. Author uses a poll asking what people believed the inflation rate was over the last year . Counters this and says everyone is wrong by finding the annualized inflation rate over 30 years .Summary:',\n",
       "  'Summarize: This has been bothering me for about 6 months now, and I still don\\'t know how to feel about it. Basically I left my ex around 4 months ago after over 2 years of being happily in a relationship. The reason for that was trust. I couldn\\'t trust her. She made me so paranoid and then blamed it all on me, that it was all in my head. She denied it all and made me feel like I was insane and that it all was inside my head. I still feel unsure about everything, I\\'m having a hard time trusting people etc. Anyways, I\\'ll get on with what pretty much happened over the time, hope someone has time to read what I have to say. Basically, all the problems started before we actually were \"officially\" in a relationship. She had this guy, a very good friend of hers. It was more like a FWB type of thing though, and she had apparently had feelings for him at some point at least, but he never wanted anything serious. Between the beginning of our dating and our official relationship thingie they still had something going on. They did have sex once, and casual making out and such. GF told me after about a year, which was quite odd to me. I thought that I should probably be careful with this guy. Took a few months again, AFAIK they didn\\'t hang out or anything anymore, nothing. Everything was just great. My GF did have a habit of being very flirty with other guys (we\\'ll get back to this later). Then his old FWB was in contact again. I didn\\'t like it at all, but she just told me they\\'re really good friends. And one evening she was drinking with him and some other friends of hers. Well, apparently this guy had been talking a lot of shit about me, trying to make me look really bad. Also tried making out with my GF, and from what I heard from her she didn\\'t answer the gesture. What also made me feel quite bad was that her friend was encouraging her to cheat on me for a few months. Yet my GF kept on hanging out with that friend of hers who wanted my GF to cheat on me. Later on, a few other guys came along. My GF was extremely flirty with them, especially when I wasn\\'t around. All of this I heard from her friends (some of them who are very good friends of mine as well). She denied it all. Thoughts were running through my head, I was wondering if I\\'m just really too paranoid. I constantly heard about my GF flirting and being intimate with several guys. Anything within the limits of touching genitals or kissing. She kept going on, denying it all. She even did that at her own party when I was just behind one door throwing up in a bucket. She was taking care of me for five minutes. Her friends took care of me for several hours and told me that she\\'s doing it again. This went on with her ex-FWB and some other guys for some time. Then I just had it. She kept hanging out with that ex-FWB of hers really often. He constantly came up with ways to see my GF (they were neighbours, so that gave him the advantage). I knew he wanted sex from her and I mentioned that to my GF. She denied it as well, telling me he just wants to be friends. After a while, I decided that I\\'ve had it. I talked to her on the phone, she was hanging out just with him at her place. Of course knowing what he had been trying for many, many months and all the history they\\'ve had I just didn\\'t tolerate it. The next day I went to her place, told her that that it\\'s over unless she stops seeing him. She didn\\'t choose me. After the break-up I did a lot of talking with me and my ex-gf\\'s mutual friend, who has been one of my best friend for years now. It was devastating to find out how within minutes of me leaving her place after breaking up with her she went and had sex with that ex-FWB of hers. She also had told her friends she had known what he wanted all along. We were good friends with my ex after the break-up. Still, she lied to my face more than ever. To me, she said we still have a chance to work it out. To her friends, she told the opposite. Then followed the most dick move she could do. She started spreading a rumour to people (we have LOTS of mutual friends) that I had been violent towards her and hit her. I still have no idea how many people believe her, but I\\'ve made it clear with lots of people. Then again, she told most of our mutual friends, her family etc. I just can\\'t believe how she could do all that. All that time I thought she would be the love of my life, the perfect girl for me. I loved her with all my heart, shared all of my secrets with her (even one I\\'ve never told my parents or anyone else) and did everything to be loyal to her. I still feel that I\\'m not enough. Not for her, not for anyone. My self-esteem has always been terrible. This has made it so much worse. I\\'ve been drinking like fuck every weekend after the break-up and it feels like it\\'s the only thing keeping me going. I have no motivation in anything and I constantly feel paranoid of the fact that people think of me as someone who beats women up. Who\\'d believe me, anyways? A month after the break-up she also met this guy and a week after meeting him they\\'re together. At first when seeing her at parties and such she went and made out with him right in front of me on purpose and she\\'s still doing that at times. I just don\\'t get the point. Everyone thinks that\\'s awfully done by her as well, seeing how we had quite a long relationship and she just jumps into a new one right away ditching everything I had with her. Didn\\'t feel good either, no.. We sometimes talked about how if we\\'d break up it\\'d go on without a fight and we\\'d stay best friends. I believed in it. What I believed in even more was that I would spend the rest of my life with her. She told me the same things. The best experiences I had ever had were with her. Then she just smashed it all to bits. I feel crushed, reddit. Helpless with all of this. I\\'m just hoping someone would bother reading my wall of text, maybe relate, maybe have advice for me. If not, at least I have all of this typed out.Summary:'],\n",
       " 'target_text': [\"although we didn't have our beer market killed by prohibition, the number of breweries did dwindle during the 20th century, and interest in beer equally so, but beer is most definitely on the up in the UK now.\",\n",
       "  \"We borrowed a friends car, jumped a railroad track, messed his transmission up, backed home to the same spot we found the car and didn't tell friend about the adventure.\",\n",
       "  'author causes intentional misdirection by comparing apples to oranges.',\n",
       "  \"Seriously, read the whole thing. But if you really can't be bothered, I started getting paranoid because of my ex, she lied to me a lot and spread rumours that I hit her after the break-up\"]}"
      ]
     },
     "execution_count": 33,
     "metadata": {},
     "output_type": "execute_result"
    }
   ],
   "source": [
    "it = iter(train_loader)\n",
    "data = next(it)\n",
    "data"
   ]
  },
  {
   "cell_type": "code",
   "execution_count": 34,
   "metadata": {},
   "outputs": [
    {
     "data": {
      "text/plain": [
       "'Summarize: A friend left my house with another friend. He left his car in my driveway. A couple of other buddies were at my house and suggested we take his car and go jump it over the railroad track. There was a dirt road that had a railroad track at the top of a hill. There was a rapid drop off on the other side, so you could get considerable air. \"Ok,\" I say and we head out. We jump it a few times before the car\\'s transmission goes out. The car would only go in reverse. We back the car back home in reverse. We were miles from my house and we even had to back it down main street. We put it in the exact spot we found it. The friend comes back, says his good-byes and gets in his car to go home. Shortly, he comes in the house furious. \"The jerk sold me a lemon! I\\'ve only had the car a week and now it\\'s leaking transmission fluid!\" It was extremely hard for us to keep a straight face. Before anyone calls us jerks, the car wasn\\'t worth much and we got it all fixed up. I told him about it 10 or so years later. Man, that was a fun day.Summary:\\n'"
      ]
     },
     "execution_count": 34,
     "metadata": {},
     "output_type": "execute_result"
    }
   ],
   "source": [
    "pos_data['train']['source'][1]"
   ]
  },
  {
   "cell_type": "code",
   "execution_count": 23,
   "metadata": {},
   "outputs": [
    {
     "ename": "NameError",
     "evalue": "name 'source_encoding' is not defined",
     "output_type": "error",
     "traceback": [
      "\u001b[0;31m---------------------------------------------------------------------------\u001b[0m",
      "\u001b[0;31mNameError\u001b[0m                                 Traceback (most recent call last)",
      "Cell \u001b[0;32mIn[23], line 1\u001b[0m\n\u001b[0;32m----> 1\u001b[0m \u001b[38;5;28mprint\u001b[39m(\u001b[38;5;124m\"\u001b[39m\u001b[38;5;124mSource Input IDs:\u001b[39m\u001b[38;5;124m\"\u001b[39m, \u001b[43msource_encoding\u001b[49m[\u001b[38;5;124m'\u001b[39m\u001b[38;5;124minput_ids\u001b[39m\u001b[38;5;124m'\u001b[39m])\n\u001b[1;32m      2\u001b[0m \u001b[38;5;28mprint\u001b[39m(\u001b[38;5;124m\"\u001b[39m\u001b[38;5;124mTarget Input IDs:\u001b[39m\u001b[38;5;124m\"\u001b[39m, target_encoding[\u001b[38;5;124m'\u001b[39m\u001b[38;5;124minput_ids\u001b[39m\u001b[38;5;124m'\u001b[39m])\n\u001b[1;32m      4\u001b[0m \u001b[38;5;66;03m# Decode back to text\u001b[39;00m\n",
      "\u001b[0;31mNameError\u001b[0m: name 'source_encoding' is not defined"
     ]
    }
   ],
   "source": [
    "print(\"Source Input IDs:\", source_encoding['input_ids'])\n",
    "print(\"Target Input IDs:\", target_encoding['input_ids'])\n",
    "\n",
    "# Decode back to text\n",
    "decoded_source = tokenizer.decode(source_encoding['input_ids'][0], skip_special_tokens=True)\n",
    "decoded_target = tokenizer.decode(target_encoding['input_ids'][0], skip_special_tokens=True)\n",
    "\n",
    "print(\"Decoded Source:\", decoded_source)\n",
    "print(\"Decoded Target:\", decoded_target)"
   ]
  }
 ],
 "metadata": {
  "kernelspec": {
   "display_name": "factual_bias_mitigation",
   "language": "python",
   "name": "python3"
  },
  "language_info": {
   "codemirror_mode": {
    "name": "ipython",
    "version": 3
   },
   "file_extension": ".py",
   "mimetype": "text/x-python",
   "name": "python",
   "nbconvert_exporter": "python",
   "pygments_lexer": "ipython3",
   "version": "3.10.0"
  }
 },
 "nbformat": 4,
 "nbformat_minor": 2
}
